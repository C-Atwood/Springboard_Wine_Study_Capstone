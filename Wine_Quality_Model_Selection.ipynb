{
 "cells": [
  {
   "cell_type": "markdown",
   "id": "2f8c2614",
   "metadata": {},
   "source": [
    "# Model Selection for Red and White Wines"
   ]
  },
  {
   "cell_type": "code",
   "execution_count": 3,
   "id": "4a0db981",
   "metadata": {},
   "outputs": [],
   "source": [
    "from sklearn.model_selection import train_test_split, cross_val_score\n",
    "from sklearn.linear_model import LogisticRegression\n",
    "from sklearn.neighbors   import KNeighborsClassifier\n",
    "from sklearn.ensemble  import RandomForestClassifier\n",
    "from sklearn.model_selection import GridSearchCV, RandomizedSearchCV\n",
    "from sklearn.preprocessing import StandardScaler\n",
    "from sklearn.pipeline import make_pipeline\n",
    "from sklearn.metrics import roc_auc_score,roc_curve,RocCurveDisplay\n",
    "from sklearn import metrics\n",
    "import pandas as pd\n",
    "import numpy as np\n",
    "import matplotlib.pyplot as plt\n",
    "import seaborn as sns\n",
    "red = pd.read_csv('C:\\projects\\Wine_Capstone\\winequality-red.csv', sep = ';')\n",
    "white = pd.read_csv('C:\\projects\\Wine_Capstone\\winequality-white.csv', sep = ';')"
   ]
  },
  {
   "cell_type": "code",
   "execution_count": 4,
   "id": "b30cda69",
   "metadata": {},
   "outputs": [
    {
     "data": {
      "text/html": [
       "<div>\n",
       "<style scoped>\n",
       "    .dataframe tbody tr th:only-of-type {\n",
       "        vertical-align: middle;\n",
       "    }\n",
       "\n",
       "    .dataframe tbody tr th {\n",
       "        vertical-align: top;\n",
       "    }\n",
       "\n",
       "    .dataframe thead th {\n",
       "        text-align: right;\n",
       "    }\n",
       "</style>\n",
       "<table border=\"1\" class=\"dataframe\">\n",
       "  <thead>\n",
       "    <tr style=\"text-align: right;\">\n",
       "      <th></th>\n",
       "      <th>fixed acidity</th>\n",
       "      <th>volatile acidity</th>\n",
       "      <th>citric acid</th>\n",
       "      <th>residual sugar</th>\n",
       "      <th>chlorides</th>\n",
       "      <th>free sulfur dioxide</th>\n",
       "      <th>total sulfur dioxide</th>\n",
       "      <th>density</th>\n",
       "      <th>pH</th>\n",
       "      <th>sulphates</th>\n",
       "      <th>alcohol</th>\n",
       "      <th>quality</th>\n",
       "      <th>quality_level</th>\n",
       "    </tr>\n",
       "  </thead>\n",
       "  <tbody>\n",
       "    <tr>\n",
       "      <th>0</th>\n",
       "      <td>7.4</td>\n",
       "      <td>0.70</td>\n",
       "      <td>0.00</td>\n",
       "      <td>1.9</td>\n",
       "      <td>0.076</td>\n",
       "      <td>11.0</td>\n",
       "      <td>34.0</td>\n",
       "      <td>0.9978</td>\n",
       "      <td>3.51</td>\n",
       "      <td>0.56</td>\n",
       "      <td>9.4</td>\n",
       "      <td>5</td>\n",
       "      <td>low</td>\n",
       "    </tr>\n",
       "    <tr>\n",
       "      <th>1</th>\n",
       "      <td>7.8</td>\n",
       "      <td>0.88</td>\n",
       "      <td>0.00</td>\n",
       "      <td>2.6</td>\n",
       "      <td>0.098</td>\n",
       "      <td>25.0</td>\n",
       "      <td>67.0</td>\n",
       "      <td>0.9968</td>\n",
       "      <td>3.20</td>\n",
       "      <td>0.68</td>\n",
       "      <td>9.8</td>\n",
       "      <td>5</td>\n",
       "      <td>low</td>\n",
       "    </tr>\n",
       "    <tr>\n",
       "      <th>2</th>\n",
       "      <td>7.8</td>\n",
       "      <td>0.76</td>\n",
       "      <td>0.04</td>\n",
       "      <td>2.3</td>\n",
       "      <td>0.092</td>\n",
       "      <td>15.0</td>\n",
       "      <td>54.0</td>\n",
       "      <td>0.9970</td>\n",
       "      <td>3.26</td>\n",
       "      <td>0.65</td>\n",
       "      <td>9.8</td>\n",
       "      <td>5</td>\n",
       "      <td>low</td>\n",
       "    </tr>\n",
       "    <tr>\n",
       "      <th>3</th>\n",
       "      <td>11.2</td>\n",
       "      <td>0.28</td>\n",
       "      <td>0.56</td>\n",
       "      <td>1.9</td>\n",
       "      <td>0.075</td>\n",
       "      <td>17.0</td>\n",
       "      <td>60.0</td>\n",
       "      <td>0.9980</td>\n",
       "      <td>3.16</td>\n",
       "      <td>0.58</td>\n",
       "      <td>9.8</td>\n",
       "      <td>6</td>\n",
       "      <td>high</td>\n",
       "    </tr>\n",
       "    <tr>\n",
       "      <th>4</th>\n",
       "      <td>7.4</td>\n",
       "      <td>0.70</td>\n",
       "      <td>0.00</td>\n",
       "      <td>1.9</td>\n",
       "      <td>0.076</td>\n",
       "      <td>11.0</td>\n",
       "      <td>34.0</td>\n",
       "      <td>0.9978</td>\n",
       "      <td>3.51</td>\n",
       "      <td>0.56</td>\n",
       "      <td>9.4</td>\n",
       "      <td>5</td>\n",
       "      <td>low</td>\n",
       "    </tr>\n",
       "  </tbody>\n",
       "</table>\n",
       "</div>"
      ],
      "text/plain": [
       "   fixed acidity  volatile acidity  citric acid  residual sugar  chlorides  \\\n",
       "0            7.4              0.70         0.00             1.9      0.076   \n",
       "1            7.8              0.88         0.00             2.6      0.098   \n",
       "2            7.8              0.76         0.04             2.3      0.092   \n",
       "3           11.2              0.28         0.56             1.9      0.075   \n",
       "4            7.4              0.70         0.00             1.9      0.076   \n",
       "\n",
       "   free sulfur dioxide  total sulfur dioxide  density    pH  sulphates  \\\n",
       "0                 11.0                  34.0   0.9978  3.51       0.56   \n",
       "1                 25.0                  67.0   0.9968  3.20       0.68   \n",
       "2                 15.0                  54.0   0.9970  3.26       0.65   \n",
       "3                 17.0                  60.0   0.9980  3.16       0.58   \n",
       "4                 11.0                  34.0   0.9978  3.51       0.56   \n",
       "\n",
       "   alcohol  quality quality_level  \n",
       "0      9.4        5           low  \n",
       "1      9.8        5           low  \n",
       "2      9.8        5           low  \n",
       "3      9.8        6          high  \n",
       "4      9.4        5           low  "
      ]
     },
     "execution_count": 4,
     "metadata": {},
     "output_type": "execute_result"
    }
   ],
   "source": [
    "#Create new column for high quality/ low quality -red\n",
    "quality_level = []\n",
    "for row in red['quality']:\n",
    "    if row >= 6: quality_level.append('high')\n",
    "    else: quality_level.append('low')\n",
    "red['quality_level'] = quality_level\n",
    "red.head()"
   ]
  },
  {
   "cell_type": "code",
   "execution_count": 16,
   "id": "9b0d100c",
   "metadata": {},
   "outputs": [
    {
     "name": "stdout",
     "output_type": "stream",
     "text": [
      "y shape: (1599,)\n",
      "X shape: (1599, 11)\n"
     ]
    }
   ],
   "source": [
    "#Define X and y - red\n",
    "y = red.quality_level == 'high'\n",
    "X = red.drop(['quality_level','quality'],axis=1)\n",
    "print('y shape:', y.shape)\n",
    "print('X shape:', X.shape)"
   ]
  },
  {
   "cell_type": "code",
   "execution_count": 18,
   "id": "e9383877",
   "metadata": {
    "scrolled": false
   },
   "outputs": [
    {
     "data": {
      "text/plain": [
       "array([[-0.52835961,  0.96187667, -1.39147228, ...,  1.28864292,\n",
       "        -0.57920652, -0.96024611],\n",
       "       [-0.29854743,  1.96744245, -1.39147228, ..., -0.7199333 ,\n",
       "         0.1289504 , -0.58477711],\n",
       "       [-0.29854743,  1.29706527, -1.18607043, ..., -0.33117661,\n",
       "        -0.04808883, -0.58477711],\n",
       "       ...,\n",
       "       [-1.1603431 , -0.09955388, -0.72391627, ...,  0.70550789,\n",
       "         0.54204194,  0.54162988],\n",
       "       [-1.39015528,  0.65462046, -0.77526673, ...,  1.6773996 ,\n",
       "         0.30598963, -0.20930812],\n",
       "       [-1.33270223, -1.21684919,  1.02199944, ...,  0.51112954,\n",
       "         0.01092425,  0.54162988]])"
      ]
     },
     "execution_count": 18,
     "metadata": {},
     "output_type": "execute_result"
    }
   ],
   "source": [
    "#Scale the data - red\n",
    "X_scaled = StandardScaler()\n",
    "X_scaled = X_scaled.fit_transform(X)\n",
    "X_scaled"
   ]
  },
  {
   "cell_type": "markdown",
   "id": "461f7e22",
   "metadata": {},
   "source": [
    "# Red Wine Classifiers"
   ]
  },
  {
   "cell_type": "code",
   "execution_count": 20,
   "id": "6c090bf9",
   "metadata": {},
   "outputs": [
    {
     "name": "stdout",
     "output_type": "stream",
     "text": [
      "Best parameter: {'n_neighbors': 24}\n",
      "Best roc/auc score: 0.779947582693962\n"
     ]
    }
   ],
   "source": [
    "#KNN Classifier - red\n",
    "params = {'n_neighbors':np.arange(1,25)}\n",
    "red_neighbor = KNeighborsClassifier()\n",
    "red_neighbor_gscv = GridSearchCV(red_neighbor,params,scoring = 'roc_auc',cv=5)\n",
    "red_neighbor_gscv.fit(X_scaled,y)\n",
    "print('Best parameter:',red_neighbor_gscv.best_params_)\n",
    "print('Best roc/auc score:',red_neighbor_gscv.best_score_)"
   ]
  },
  {
   "cell_type": "code",
   "execution_count": 21,
   "id": "a67a51f4",
   "metadata": {},
   "outputs": [
    {
     "name": "stdout",
     "output_type": "stream",
     "text": [
      "Best parameters: {'bootstrap': True, 'max_depth': 6, 'min_samples_leaf': 1, 'min_samples_split': 10, 'n_estimators': 400}\n",
      "Best roc/auc score: 0.8239654702388719\n"
     ]
    }
   ],
   "source": [
    "#Random Forest Classifier - red\n",
    "params = {'n_estimators':[10,100,200,250,300,400,500],'max_depth':[3,6,10,15,20],'min_samples_split':[2, 5, 10],'min_samples_leaf':[1, 2, 4],'bootstrap':[True, False]}\n",
    "red_forest=RandomForestClassifier()\n",
    "red_forest_gscv = GridSearchCV(red_forest,params,scoring = 'roc_auc',cv=5)\n",
    "red_forest_gscv.fit(X,y)\n",
    "print('Best parameters:',red_forest_gscv.best_params_)\n",
    "print('Best roc/auc score:',red_forest_gscv.best_score_)"
   ]
  },
  {
   "cell_type": "code",
   "execution_count": 22,
   "id": "1ac416c5",
   "metadata": {},
   "outputs": [
    {
     "data": {
      "image/png": "[encoded data removed]",
      "text/plain": [
       "<Figure size 432x288 with 1 Axes>"
      ]
     },
     "metadata": {
      "needs_background": "light"
     },
     "output_type": "display_data"
    }
   ],
   "source": [
    "#Plot ROC curve for Random Forest - red\n",
    "X_train,X_test,y_train,y_test = train_test_split(X,y,test_size=0.3,random_state = 23)\n",
    "r_rf = RandomForestClassifier(n_estimators=300,max_depth=6,min_samples_leaf=4,min_samples_split=5,bootstrap=True)\n",
    "r_rf.fit(X_train,y_train)\n",
    "y_pred = r_rf.predict_proba(X_test)\n",
    "y_pred = y_pred[:,1]\n",
    "fpr,tpr,thresholds = roc_curve(y_test,y_pred)\n",
    "plt.plot([0,1],[0,1],linestyle = '--',label='No Skill')\n",
    "plt.plot(fpr,tpr,marker = '.',label='Random Forest')\n",
    "plt.xlabel('False Positive Rate')\n",
    "plt.ylabel(\"True Positive Rate\")\n",
    "plt.title('ROC Curve for Estimators of Red Wines - Random Forest')\n",
    "plt.legend()\n",
    "plt.show()"
   ]
  },
  {
   "cell_type": "code",
   "execution_count": 23,
   "id": "656fe951",
   "metadata": {
    "scrolled": false
   },
   "outputs": [
    {
     "name": "stdout",
     "output_type": "stream",
     "text": [
      "Best parameters: {'C': 1, 'max_iter': 100}\n",
      "Best roc/auc score: 0.808645116327914\n"
     ]
    }
   ],
   "source": [
    "#Logistic Regression - red\n",
    "params = {'C':[0.001,0.01,1,10,100],'max_iter':[100,150,200]}\n",
    "red_lr = LogisticRegression()\n",
    "red_lr_gscv = GridSearchCV(red_lr,params,scoring = 'roc_auc',cv=5)\n",
    "red_lr_gscv.fit(X_scaled,y)\n",
    "print('Best parameters:',red_lr_gscv.best_params_)\n",
    "print('Best roc/auc score:',red_lr_gscv.best_score_)"
   ]
  },
  {
   "cell_type": "code",
   "execution_count": 24,
   "id": "aa9bb02b",
   "metadata": {},
   "outputs": [
    {
     "data": {
      "text/plain": [
       "<matplotlib.legend.Legend at 0x1a135d06220>"
      ]
     },
     "execution_count": 24,
     "metadata": {},
     "output_type": "execute_result"
    },
    {
     "data": {
      "image/png": "[encoded data removed]",
      "text/plain": [
       "<Figure size 432x288 with 1 Axes>"
      ]
     },
     "metadata": {
      "needs_background": "light"
     },
     "output_type": "display_data"
    }
   ],
   "source": [
    "#Plot Roc/ Auc Curves for all models - red\n",
    "X_train,X_test,y_train,y_test = train_test_split(X,y,test_size=0.3,random_state = 23)\n",
    "r_rf = RandomForestClassifier(n_estimators=300,max_depth=6,min_samples_leaf=4,min_samples_split=5,bootstrap=True)\n",
    "r_rf.fit(X_train,y_train)\n",
    "y_pred = r_rf.predict_proba(X_test)\n",
    "y_pred=y_pred[:,1]\n",
    "rf_auc = roc_auc_score(y_test,y_pred)\n",
    "rf_auc=round(rf_auc,4)\n",
    "ax=plt.axes()\n",
    "ax.set_facecolor(color = '0.75')\n",
    "fpr,tpr,thresholds = roc_curve(y_test,y_pred)\n",
    "plt.plot(fpr, tpr, marker='.', color = 'r',label='Random Forest, auc='+str(rf_auc))\n",
    "\n",
    "X_train,X_test,y_train,y_test = train_test_split(X_scaled,y,test_size=0.3,random_state = 23)\n",
    "r_knn=KNeighborsClassifier(n_neighbors=24)\n",
    "r_knn.fit(X_train,y_train)\n",
    "y_pred = r_knn.predict_proba(X_test)\n",
    "y_pred = y_pred[:,1] \n",
    "knn_r_auc = roc_auc_score(y_test,y_pred)\n",
    "knn_r_auc=round(knn_r_auc,4)\n",
    "fpr, tpr, thresholds = roc_curve(y_test,y_pred)\n",
    "plt.plot(fpr,tpr,marker='.',color='blue',label='KNN, auc='+str(knn_r_auc))\n",
    "\n",
    "r_lr = LogisticRegression(C=1,max_iter=100)\n",
    "r_lr.fit(X_train,y_train)\n",
    "y_pred=r_lr.predict_proba(X_test)\n",
    "y_pred=y_pred[:,1]\n",
    "r_lr_auc = roc_auc_score(y_test,y_pred)\n",
    "r_lr_auc=round(r_lr_auc,4)\n",
    "fpr,tpr,thresholds=roc_curve(y_test,y_pred)\n",
    "plt.plot(fpr,tpr,marker='.',color = 'green',label='Logistic Regression, auc='+str(r_lr_auc))\n",
    "plt.plot([0,1], [0,1], linestyle='--',color='black', label='No Prediction')\n",
    "plt.xlabel(\"False Psoitive Rate\")\n",
    "plt.ylabel(\"True Positive Rate\")\n",
    "plt.title('ROC/AUC Curves\\n Red Wines')\n",
    "plt.grid()\n",
    "plt.legend()"
   ]
  },
  {
   "cell_type": "code",
   "execution_count": 33,
   "id": "1ca40b32",
   "metadata": {},
   "outputs": [
    {
     "data": {
      "image/png": "[encoded data removed]",
      "text/plain": [
       "<Figure size 432x288 with 1 Axes>"
      ]
     },
     "metadata": {
      "needs_background": "light"
     },
     "output_type": "display_data"
    }
   ],
   "source": [
    "from sklearn import metrics\n",
    "\n",
    "X_train,X_test,y_train,y_test = train_test_split(X,y,test_size=0.3,random_state = 23)\n",
    "r_rf = RandomForestClassifier(n_estimators=300,max_depth=6,min_samples_leaf=4,min_samples_split=5,bootstrap=True)\n",
    "r_rf.fit(X_train,y_train)\n",
    "y_pred = r_rf.predict_proba(X_test)\n",
    "y_pred = y_pred[:,1]\n",
    "fpr,tpr,thresholds = roc_curve(y_test,y_pred)\n",
    "plt.plot([0,1], [0,1], linestyle='--', label='No Skill')\n",
    "plt.plot(fpr, tpr, marker='.', label='Random Forest')\n",
    "plt.xlabel('Fals Positive Rate')\n",
    "plt.ylabel('True Positive Rate')\n",
    "plt.title('ROC Curve for Estimators of Red Wines - Random Forest')\n",
    "plt.show()"
   ]
  },
  {
   "cell_type": "code",
   "execution_count": 26,
   "id": "74c22db9",
   "metadata": {
    "scrolled": true
   },
   "outputs": [
    {
     "data": {
      "text/html": [
       "<div>\n",
       "<style scoped>\n",
       "    .dataframe tbody tr th:only-of-type {\n",
       "        vertical-align: middle;\n",
       "    }\n",
       "\n",
       "    .dataframe tbody tr th {\n",
       "        vertical-align: top;\n",
       "    }\n",
       "\n",
       "    .dataframe thead th {\n",
       "        text-align: right;\n",
       "    }\n",
       "</style>\n",
       "<table border=\"1\" class=\"dataframe\">\n",
       "  <thead>\n",
       "    <tr style=\"text-align: right;\">\n",
       "      <th></th>\n",
       "      <th>fixed acidity</th>\n",
       "      <th>volatile acidity</th>\n",
       "      <th>citric acid</th>\n",
       "      <th>residual sugar</th>\n",
       "      <th>chlorides</th>\n",
       "      <th>free sulfur dioxide</th>\n",
       "      <th>total sulfur dioxide</th>\n",
       "      <th>density</th>\n",
       "      <th>pH</th>\n",
       "      <th>sulphates</th>\n",
       "      <th>alcohol</th>\n",
       "      <th>quality</th>\n",
       "      <th>quality_level</th>\n",
       "    </tr>\n",
       "  </thead>\n",
       "  <tbody>\n",
       "    <tr>\n",
       "      <th>0</th>\n",
       "      <td>7.0</td>\n",
       "      <td>0.27</td>\n",
       "      <td>0.36</td>\n",
       "      <td>20.7</td>\n",
       "      <td>0.045</td>\n",
       "      <td>45.0</td>\n",
       "      <td>170.0</td>\n",
       "      <td>1.0010</td>\n",
       "      <td>3.00</td>\n",
       "      <td>0.45</td>\n",
       "      <td>8.8</td>\n",
       "      <td>6</td>\n",
       "      <td>high</td>\n",
       "    </tr>\n",
       "    <tr>\n",
       "      <th>1</th>\n",
       "      <td>6.3</td>\n",
       "      <td>0.30</td>\n",
       "      <td>0.34</td>\n",
       "      <td>1.6</td>\n",
       "      <td>0.049</td>\n",
       "      <td>14.0</td>\n",
       "      <td>132.0</td>\n",
       "      <td>0.9940</td>\n",
       "      <td>3.30</td>\n",
       "      <td>0.49</td>\n",
       "      <td>9.5</td>\n",
       "      <td>6</td>\n",
       "      <td>high</td>\n",
       "    </tr>\n",
       "    <tr>\n",
       "      <th>2</th>\n",
       "      <td>8.1</td>\n",
       "      <td>0.28</td>\n",
       "      <td>0.40</td>\n",
       "      <td>6.9</td>\n",
       "      <td>0.050</td>\n",
       "      <td>30.0</td>\n",
       "      <td>97.0</td>\n",
       "      <td>0.9951</td>\n",
       "      <td>3.26</td>\n",
       "      <td>0.44</td>\n",
       "      <td>10.1</td>\n",
       "      <td>6</td>\n",
       "      <td>high</td>\n",
       "    </tr>\n",
       "    <tr>\n",
       "      <th>3</th>\n",
       "      <td>7.2</td>\n",
       "      <td>0.23</td>\n",
       "      <td>0.32</td>\n",
       "      <td>8.5</td>\n",
       "      <td>0.058</td>\n",
       "      <td>47.0</td>\n",
       "      <td>186.0</td>\n",
       "      <td>0.9956</td>\n",
       "      <td>3.19</td>\n",
       "      <td>0.40</td>\n",
       "      <td>9.9</td>\n",
       "      <td>6</td>\n",
       "      <td>high</td>\n",
       "    </tr>\n",
       "    <tr>\n",
       "      <th>4</th>\n",
       "      <td>7.2</td>\n",
       "      <td>0.23</td>\n",
       "      <td>0.32</td>\n",
       "      <td>8.5</td>\n",
       "      <td>0.058</td>\n",
       "      <td>47.0</td>\n",
       "      <td>186.0</td>\n",
       "      <td>0.9956</td>\n",
       "      <td>3.19</td>\n",
       "      <td>0.40</td>\n",
       "      <td>9.9</td>\n",
       "      <td>6</td>\n",
       "      <td>high</td>\n",
       "    </tr>\n",
       "  </tbody>\n",
       "</table>\n",
       "</div>"
      ],
      "text/plain": [
       "   fixed acidity  volatile acidity  citric acid  residual sugar  chlorides  \\\n",
       "0            7.0              0.27         0.36            20.7      0.045   \n",
       "1            6.3              0.30         0.34             1.6      0.049   \n",
       "2            8.1              0.28         0.40             6.9      0.050   \n",
       "3            7.2              0.23         0.32             8.5      0.058   \n",
       "4            7.2              0.23         0.32             8.5      0.058   \n",
       "\n",
       "   free sulfur dioxide  total sulfur dioxide  density    pH  sulphates  \\\n",
       "0                 45.0                 170.0   1.0010  3.00       0.45   \n",
       "1                 14.0                 132.0   0.9940  3.30       0.49   \n",
       "2                 30.0                  97.0   0.9951  3.26       0.44   \n",
       "3                 47.0                 186.0   0.9956  3.19       0.40   \n",
       "4                 47.0                 186.0   0.9956  3.19       0.40   \n",
       "\n",
       "   alcohol  quality quality_level  \n",
       "0      8.8        6          high  \n",
       "1      9.5        6          high  \n",
       "2     10.1        6          high  \n",
       "3      9.9        6          high  \n",
       "4      9.9        6          high  "
      ]
     },
     "execution_count": 26,
     "metadata": {},
     "output_type": "execute_result"
    }
   ],
   "source": [
    "#Create new column for high quality/ low quality -white\n",
    "quality_level = []\n",
    "for row in white['quality']:\n",
    "    if row >= 6: quality_level.append('high')\n",
    "    else: quality_level.append('low')\n",
    "white['quality_level'] = quality_level\n",
    "white.head()"
   ]
  },
  {
   "cell_type": "code",
   "execution_count": 27,
   "id": "d48bb175",
   "metadata": {},
   "outputs": [
    {
     "name": "stdout",
     "output_type": "stream",
     "text": [
      "y shape: (4898,)\n",
      "X shape: (4898, 11)\n"
     ]
    }
   ],
   "source": [
    "#Define X and y - white\n",
    "y = white.quality_level == 'high'\n",
    "X = white.drop(['quality_level','quality'], axis=1)\n",
    "print('y shape:', y.shape)\n",
    "print('X shape:', X.shape)"
   ]
  },
  {
   "cell_type": "code",
   "execution_count": 28,
   "id": "abd4af84",
   "metadata": {},
   "outputs": [
    {
     "data": {
      "text/plain": [
       "array([[ 1.72096961e-01, -8.17699008e-02,  2.13280202e-01, ...,\n",
       "        -1.24692128e+00, -3.49184257e-01, -1.39315246e+00],\n",
       "       [-6.57501128e-01,  2.15895632e-01,  4.80011213e-02, ...,\n",
       "         7.40028640e-01,  1.34184656e-03, -8.24275678e-01],\n",
       "       [ 1.47575110e+00,  1.74519434e-02,  5.43838363e-01, ...,\n",
       "         4.75101984e-01, -4.36815783e-01, -3.36667007e-01],\n",
       "       ...,\n",
       "       [-4.20473102e-01, -3.79435433e-01, -1.19159198e+00, ...,\n",
       "        -1.31315295e+00, -2.61552731e-01, -9.05543789e-01],\n",
       "       [-1.60561323e+00,  1.16673788e-01, -2.82557040e-01, ...,\n",
       "         1.00495530e+00, -9.62604939e-01,  1.85757201e+00],\n",
       "       [-1.01304317e+00, -6.77100966e-01,  3.78559282e-01, ...,\n",
       "         4.75101984e-01, -1.48839409e+00,  1.04489089e+00]])"
      ]
     },
     "execution_count": 28,
     "metadata": {},
     "output_type": "execute_result"
    }
   ],
   "source": [
    "# Scale the data - white\n",
    "X_scaled = StandardScaler()\n",
    "X_scaled = X_scaled.fit_transform(X)\n",
    "X_scaled"
   ]
  },
  {
   "cell_type": "markdown",
   "id": "69484129",
   "metadata": {},
   "source": [
    "# White Wine Classifiers"
   ]
  },
  {
   "cell_type": "code",
   "execution_count": 29,
   "id": "6fee4aca",
   "metadata": {
    "scrolled": true
   },
   "outputs": [
    {
     "name": "stdout",
     "output_type": "stream",
     "text": [
      "Best parameter: {'n_neighbors': 24}\n",
      "Best roc/auc score: 0.7961682802824325\n"
     ]
    }
   ],
   "source": [
    "#KNN Classifier - white\n",
    "params = {'n_neighbors':np.arange(1,25)}\n",
    "white_neighbor = KNeighborsClassifier()\n",
    "white_neighbor_gscv = GridSearchCV(white_neighbor,params,scoring = 'roc_auc',cv=5)\n",
    "white_neighbor_gscv.fit(X_scaled,y)\n",
    "print('Best parameter:',white_neighbor_gscv.best_params_)\n",
    "print('Best roc/auc score:',white_neighbor_gscv.best_score_)"
   ]
  },
  {
   "cell_type": "code",
   "execution_count": 20,
   "id": "2a74ec65",
   "metadata": {
    "scrolled": true
   },
   "outputs": [
    {
     "name": "stdout",
     "output_type": "stream",
     "text": [
      "{'bootstrap': True, 'max_depth': 10, 'min_samples_leaf': 4, 'min_samples_split': 10, 'n_estimators': 400}\n",
      "0.8241371471116962\n"
     ]
    }
   ],
   "source": [
    "#Random Forest Classifier - white\n",
    "params = {'n_estimators':[10,100,200,250,300,400,500],'max_depth':[3,6,10,15,20],'min_samples_split':[2, 5, 10],'min_samples_leaf':[1, 2, 4],'bootstrap':[True, False]}\n",
    "white_forest=RandomForestClassifier()\n",
    "white_forest_gscv = GridSearchCV(white_forest,params,scoring = 'roc_auc',cv=5)\n",
    "white_forest_gscv.fit(X,y)\n",
    "print('Best parameters:',white_forest_gscv.best_params_)\n",
    "print('Best roc/auc score:',white_forest_gscv.best_score_)"
   ]
  },
  {
   "cell_type": "code",
   "execution_count": 34,
   "id": "16806a4d",
   "metadata": {},
   "outputs": [
    {
     "data": {
      "image/png": "[encoded data removed]",
      "text/plain": [
       "<Figure size 432x288 with 1 Axes>"
      ]
     },
     "metadata": {
      "needs_background": "light"
     },
     "output_type": "display_data"
    }
   ],
   "source": [
    "#Plot ROC cuve Random Forest - white\n",
    "X_train,X_test,y_train,y_test = train_test_split(X,y,test_size=0.3,random_state = 23)\n",
    "w_rf = RandomForestClassifier(n_estimators=300,max_depth=6,min_samples_leaf=4,min_samples_split=5,bootstrap=True)\n",
    "w_rf.fit(X_train,y_train)\n",
    "y_pred = w_rf.predict_proba(X_test)\n",
    "y_pred = y_pred[:,1]\n",
    "fpr,tpr,thresholds = roc_curve(y_test,y_pred)\n",
    "plt.plot([0,1],[0,1],linestyle = '--',label='No Skill')\n",
    "plt.plot(fpr,tpr,marker = '.',label='Random Forest')\n",
    "plt.xlabel('False Positive Rate')\n",
    "plt.ylabel(\"True Positive Rate\")\n",
    "plt.title('ROC Curve for Estimators of Red Wines - Random Forest')\n",
    "plt.legend()\n",
    "plt.show()"
   ]
  },
  {
   "cell_type": "code",
   "execution_count": 31,
   "id": "e8911fe5",
   "metadata": {},
   "outputs": [
    {
     "name": "stdout",
     "output_type": "stream",
     "text": [
      "Best parameters: {'C': 100, 'max_iter': 100}\n",
      "Best roc/auc score: 0.7998574259194007\n"
     ]
    }
   ],
   "source": [
    "#Logistic Regression - White\n",
    "params = {'C':[0.001,0.01,1,10,100,500],'max_iter':[100,150,200] }\n",
    "white_lr = LogisticRegression()\n",
    "white_lr_gscv = GridSearchCV(white_lr,params,scoring = 'roc_auc',cv=5)\n",
    "white_lr_gscv.fit(X_scaled,y)\n",
    "print('Best parameters:',white_lr_gscv.best_params_)\n",
    "print('Best roc/auc score:',white_lr_gscv.best_score_)"
   ]
  },
  {
   "cell_type": "code",
   "execution_count": 32,
   "id": "a8b66fee",
   "metadata": {},
   "outputs": [
    {
     "data": {
      "text/plain": [
       "<matplotlib.legend.Legend at 0x1a13d090370>"
      ]
     },
     "execution_count": 32,
     "metadata": {},
     "output_type": "execute_result"
    },
    {
     "data": {
      "image/png": "[encoded data removed]",
      "text/plain": [
       "<Figure size 432x288 with 1 Axes>"
      ]
     },
     "metadata": {
      "needs_background": "light"
     },
     "output_type": "display_data"
    }
   ],
   "source": [
    "#Plot Roc/ Auc Curves for all models - red\n",
    "X_train,X_test,y_train,y_test = train_test_split(X,y,test_size=0.3,random_state = 23)\n",
    "w_rf = RandomForestClassifier(n_estimators=300,max_depth=6,min_samples_leaf=4,min_samples_split=5,bootstrap=True)\n",
    "w_rf.fit(X_train,y_train)\n",
    "y_pred = w_rf.predict_proba(X_test)\n",
    "y_pred=y_pred[:,1]\n",
    "w_rf_auc = roc_auc_score(y_test,y_pred)\n",
    "w_rf_auc=round(w_rf_auc,4)\n",
    "fpr,tpr,thresholds = roc_curve(y_test,y_pred)\n",
    "ax=plt.axes()\n",
    "ax.set_facecolor(color = '0.75')\n",
    "plt.plot(fpr, tpr, marker='.', color = 'orange',label='Random Forest, auc='+str(rf_auc))\n",
    "\n",
    "X_train,X_test,y_train,y_test = train_test_split(X_scaled,y,test_size=0.3,random_state = 23)\n",
    "w_knn=KNeighborsClassifier(n_neighbors=24)\n",
    "w_knn.fit(X_train,y_train)\n",
    "y_pred = w_knn.predict_proba(X_test)\n",
    "y_pred = y_pred[:,1] \n",
    "knn_w_auc = roc_auc_score(y_test,y_pred)\n",
    "knn_w_auc=round(knn_w_auc,4)\n",
    "fpr, tpr, thresholds = roc_curve(y_test,y_pred)\n",
    "plt.plot(fpr,tpr,marker='.',color='blue',label='KNN, auc='+str(knn_w_auc))\n",
    "\n",
    "w_lr = LogisticRegression(C=1,max_iter=100)\n",
    "w_lr.fit(X_train,y_train)\n",
    "y_pred=w_lr.predict_proba(X_test)\n",
    "y_pred=y_pred[:,1]\n",
    "w_lr_auc = roc_auc_score(y_test,y_pred)\n",
    "w_lr_auc=round(w_lr_auc,4)\n",
    "fpr,tpr,thresholds=roc_curve(y_test,y_pred)\n",
    "plt.plot(fpr,tpr,marker='.',color = 'green',label='Logistic Regression, auc='+str(w_lr_auc))\n",
    "plt.plot([0,1], [0,1], linestyle='--',color='black', label='No Prediction')\n",
    "plt.xlabel(\"False Psoitive Rate\")\n",
    "plt.ylabel(\"True Positive Rate\")\n",
    "plt.title('ROC/AUC Curves\\n White Wines')\n",
    "plt.grid()\n",
    "plt.legend()"
   ]
  }
 ],
 "metadata": {
  "kernelspec": {
   "display_name": "Python 3 (ipykernel)",
   "language": "python",
   "name": "python3"
  },
  "language_info": {
   "codemirror_mode": {
    "name": "ipython",
    "version": 3
   },
   "file_extension": ".py",
   "mimetype": "text/x-python",
   "name": "python",
   "nbconvert_exporter": "python",
   "pygments_lexer": "ipython3",
   "version": "3.9.7"
  }
 },
 "nbformat": 4,
 "nbformat_minor": 5
}
